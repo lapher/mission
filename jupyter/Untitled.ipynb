{
 "cells": [
  {
   "cell_type": "code",
   "execution_count": 3,
   "metadata": {},
   "outputs": [
    {
     "name": "stdout",
     "output_type": "stream",
     "text": [
      "Requirement already satisfied: boto3 in /opt/conda/lib/python3.7/site-packages (1.9.80)\n",
      "Requirement already satisfied: s3transfer<0.2.0,>=0.1.10 in /opt/conda/lib/python3.7/site-packages (from boto3) (0.1.13)\n",
      "Requirement already satisfied: jmespath<1.0.0,>=0.7.1 in /opt/conda/lib/python3.7/site-packages (from boto3) (0.9.3)\n",
      "Requirement already satisfied: botocore<1.13.0,>=1.12.80 in /opt/conda/lib/python3.7/site-packages (from boto3) (1.12.80)\n",
      "Requirement already satisfied: docutils>=0.10 in /opt/conda/lib/python3.7/site-packages (from botocore<1.13.0,>=1.12.80->boto3) (0.14)\n",
      "Requirement already satisfied: urllib3<1.25,>=1.20; python_version >= \"3.4\" in /opt/conda/lib/python3.7/site-packages (from botocore<1.13.0,>=1.12.80->boto3) (1.24.1)\n",
      "Requirement already satisfied: python-dateutil<3.0.0,>=2.1; python_version >= \"2.7\" in /opt/conda/lib/python3.7/site-packages (from botocore<1.13.0,>=1.12.80->boto3) (2.7.5)\n",
      "Requirement already satisfied: six>=1.5 in /opt/conda/lib/python3.7/site-packages (from python-dateutil<3.0.0,>=2.1; python_version >= \"2.7\"->botocore<1.13.0,>=1.12.80->boto3) (1.12.0)\n"
     ]
    }
   ],
   "source": [
    "#引用套件\n",
    "!pip install boto3\n",
    "import boto3\n",
    "from boto3.dynamodb.conditions import Key, Attr"
   ]
  },
  {
   "cell_type": "code",
   "execution_count": 4,
   "metadata": {},
   "outputs": [],
   "source": [
    "#連線 dynamodb \n",
    "sqs = boto3.resource(\n",
    "    'sqs',\n",
    "    endpoint_url='http://cc104.sqs.local:9324',    # sqs URL\n",
    "    region_name='my_region',                       # aws 區域\n",
    "    aws_access_key_id='my_access_key',             \n",
    "    aws_secret_access_key='my_secret_key',         \n",
    "    verify=False)"
   ]
  },
  {
   "cell_type": "code",
   "execution_count": 5,
   "metadata": {},
   "outputs": [
    {
     "name": "stdout",
     "output_type": "stream",
     "text": [
      "http://cc104.sqs.local:9324/queue/test3\n"
     ]
    }
   ],
   "source": [
    "# Create the queue. This returns an SQS.Queue instance\n",
    "#queue = sqs.create_queue(QueueName='test', Attributes={'DelaySeconds': '1'})\n",
    "queue = sqs.create_queue(QueueName='test3')\n",
    "\n",
    "# You can now access identifiers and attributes\n",
    "print(queue.url)\n",
    "#print(queue.attributes.get('DelaySeconds'))"
   ]
  },
  {
   "cell_type": "code",
   "execution_count": 7,
   "metadata": {},
   "outputs": [
    {
     "name": "stdout",
     "output_type": "stream",
     "text": [
      "http://cc104.sqs.local:9324/queue/test\n"
     ]
    }
   ],
   "source": [
    "# Get the queue. This returns an SQS.Queue instance\n",
    "queue = sqs.get_queue_by_name(QueueName='test')\n",
    "\n",
    "# You can now access identifiers and attributes\n",
    "# print(queue.url)\n",
    "# print(queue.attributes.get('DelaySeconds'))\n",
    "# #It is also possible to list all of your existing queues:\n",
    "\n",
    "# Print out each queue name, which is part of its ARN\n",
    "for queue in sqs.queues.all():\n",
    "    print(queue.url)"
   ]
  },
  {
   "cell_type": "code",
   "execution_count": 15,
   "metadata": {},
   "outputs": [
    {
     "name": "stdout",
     "output_type": "stream",
     "text": [
      "e5198fb2-f8d6-4002-a870-e2664be1e5ff\n",
      "8483ff2e5e36d660daf72c88ba7c3bbe\n"
     ]
    }
   ],
   "source": [
    "# Get the queue\n",
    "queue = sqs.get_queue_by_name(QueueName='test')\n",
    "\n",
    "# Create a new message\n",
    "response = queue.send_message(MessageBody='this is a queue test')\n",
    "\n",
    "# The response is NOT a resource, but gives you a message ID and MD5\n",
    "print(response.get('MessageId'))\n",
    "print(response.get('MD5OfMessageBody'))\n",
    "\n"
   ]
  },
  {
   "cell_type": "code",
   "execution_count": null,
   "metadata": {},
   "outputs": [],
   "source": [
    "# You can also create messages with custom attributes\n",
    "queue.send_message(MessageBody='boto3', MessageAttributes={\n",
    "    'Author': {\n",
    "        'StringValue': 'Daniel',\n",
    "        'DataType': 'String'\n",
    "    }\n",
    "})"
   ]
  },
  {
   "cell_type": "code",
   "execution_count": 6,
   "metadata": {},
   "outputs": [],
   "source": [
    "# Messages can also be sent in batches. For example, \n",
    "# sending the two messages described above in a single request would look like the following\n",
    "# Get the queue\n",
    "queue = sqs.get_queue_by_name(QueueName='test3')\n",
    "\n",
    "response = queue.send_messages(Entries=[\n",
    "    {\n",
    "        'Id': '1',\n",
    "        'MessageBody': 'this is a queue test1'\n",
    "    },\n",
    "    {\n",
    "        'Id': '2',\n",
    "        'MessageBody': 'this is a queue test2',\n",
    "        'MessageAttributes': {\n",
    "            'Author': {\n",
    "                'StringValue': 'hahaha',\n",
    "                'DataType': 'String'\n",
    "            }\n",
    "        }\n",
    "    }\n",
    "])\n",
    "\n",
    "# Print out any failures\n",
    "# print(response.get('Failed'))"
   ]
  },
  {
   "cell_type": "code",
   "execution_count": 9,
   "metadata": {},
   "outputs": [],
   "source": [
    "# Process messages by printing out body and optional author name\n",
    "for message in queue.receive_messages(MessageAttributeNames=['Author']):\n",
    "    # Get the custom author message attribute if it was set\n",
    "    author_text = ''\n",
    "    if message.message_attributes is not None:\n",
    "        author_name = message.message_attributes.get('Author').get('StringValue')\n",
    "        if author_name:\n",
    "            author_text = ' ({0})'.format(author_name)\n",
    "    print('Hello, {0}!{1}'.format(message.body, author_text))\n",
    "    \n",
    "    \n",
    "# Let the queue know that the message is processed\n",
    "    message.delete()"
   ]
  },
  {
   "cell_type": "code",
   "execution_count": null,
   "metadata": {},
   "outputs": [],
   "source": []
  }
 ],
 "metadata": {
  "kernelspec": {
   "display_name": "Python 3",
   "language": "python",
   "name": "python3"
  },
  "language_info": {
   "codemirror_mode": {
    "name": "ipython",
    "version": 3
   },
   "file_extension": ".py",
   "mimetype": "text/x-python",
   "name": "python",
   "nbconvert_exporter": "python",
   "pygments_lexer": "ipython3",
   "version": "3.7.1"
  }
 },
 "nbformat": 4,
 "nbformat_minor": 2
}
