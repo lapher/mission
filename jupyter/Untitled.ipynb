{
 "cells": [
  {
   "cell_type": "code",
   "execution_count": 2,
   "metadata": {},
   "outputs": [
    {
     "name": "stdout",
     "output_type": "stream",
     "text": [
      "Requirement already satisfied: boto3 in /opt/conda/lib/python3.7/site-packages (1.9.80)\n",
      "Requirement already satisfied: jmespath<1.0.0,>=0.7.1 in /opt/conda/lib/python3.7/site-packages (from boto3) (0.9.3)\n",
      "Requirement already satisfied: s3transfer<0.2.0,>=0.1.10 in /opt/conda/lib/python3.7/site-packages (from boto3) (0.1.13)\n",
      "Requirement already satisfied: botocore<1.13.0,>=1.12.80 in /opt/conda/lib/python3.7/site-packages (from boto3) (1.12.80)\n",
      "Requirement already satisfied: urllib3<1.25,>=1.20; python_version >= \"3.4\" in /opt/conda/lib/python3.7/site-packages (from botocore<1.13.0,>=1.12.80->boto3) (1.24.1)\n",
      "Requirement already satisfied: docutils>=0.10 in /opt/conda/lib/python3.7/site-packages (from botocore<1.13.0,>=1.12.80->boto3) (0.14)\n",
      "Requirement already satisfied: python-dateutil<3.0.0,>=2.1; python_version >= \"2.7\" in /opt/conda/lib/python3.7/site-packages (from botocore<1.13.0,>=1.12.80->boto3) (2.7.5)\n",
      "Requirement already satisfied: six>=1.5 in /opt/conda/lib/python3.7/site-packages (from python-dateutil<3.0.0,>=2.1; python_version >= \"2.7\"->botocore<1.13.0,>=1.12.80->boto3) (1.12.0)\n"
     ]
    }
   ],
   "source": [
    "!pip install boto3"
   ]
  },
  {
   "cell_type": "code",
   "execution_count": 21,
   "metadata": {},
   "outputs": [],
   "source": [
    "#連線 dynamodb \n",
    "#引用套件\n",
    "import boto3\n",
    "from boto3.dynamodb.conditions import Key, Attr\n",
    "# Get the service resource.\n",
    "dynamodb = boto3.resource(\n",
    "\n",
    "    'dynamodb',\n",
    "\n",
    "    endpoint_url='http://cc104.dynamodb.local:8000',   #連線網址192.168.254.100:8000 虛機ip位址，在虛機內開8\n",
    "\n",
    "    region_name='my_region',                           #區域名稱 選用虛擬區域\n",
    "\n",
    "    aws_access_key_id='my_access_key',                 #aws進入鑰匙id選用虛擬進入key\n",
    "\n",
    "    aws_secret_access_key='my_secret_key',             #aws私鑰選用虛擬私鑰進去\n",
    "\n",
    "    verify=False)"
   ]
  },
  {
   "cell_type": "code",
   "execution_count": 32,
   "metadata": {},
   "outputs": [
    {
     "name": "stdout",
     "output_type": "stream",
     "text": [
      "0\n"
     ]
    }
   ],
   "source": [
    "# Create the DynamoDB table.\n",
    "table = dynamodb.create_table(\n",
    "    TableName='users',\n",
    "    KeySchema=[\n",
    "        {\n",
    "            'AttributeName': 'username',\n",
    "            'KeyType': 'HASH'\n",
    "        },\n",
    "        {\n",
    "            'AttributeName': 'last_name',\n",
    "            'KeyType': 'RANGE'\n",
    "        }\n",
    "    ],\n",
    "    AttributeDefinitions=[\n",
    "        {\n",
    "            'AttributeName': 'username',\n",
    "            'AttributeType': 'S'\n",
    "        },\n",
    "        {\n",
    "            'AttributeName': 'last_name',\n",
    "            'AttributeType': 'S'\n",
    "        },\n",
    "\n",
    "    ],\n",
    "    ProvisionedThroughput={\n",
    "        'ReadCapacityUnits': 5,\n",
    "        'WriteCapacityUnits': 5\n",
    "    }\n",
    ")\n",
    "\n",
    "# Wait until the table exists.\n",
    "table.meta.client.get_waiter('table_exists').wait(TableName='users')\n",
    "\n",
    "# Print out some data about the table.\n",
    "print(table.item_count)"
   ]
  },
  {
   "cell_type": "code",
   "execution_count": 35,
   "metadata": {},
   "outputs": [
    {
     "name": "stdout",
     "output_type": "stream",
     "text": [
      "afterput: 2\n"
     ]
    }
   ],
   "source": [
    "#插入資料\n",
    "table.put_item(\n",
    "   Item={\n",
    "        'username': 'janedoe',\n",
    "        'first_name': 'Jane',\n",
    "        'last_name': 'Doe2',\n",
    "        'age': 2521,\n",
    "        'account_type': 'standard_user2',\n",
    "    }\n",
    ")\n",
    "\n",
    "print('afterput:', table.item_count)\n"
   ]
  },
  {
   "cell_type": "code",
   "execution_count": 20,
   "metadata": {},
   "outputs": [
    {
     "name": "stdout",
     "output_type": "stream",
     "text": [
      "{'last_name': 'Doe', 'account_type': 'standard_user', 'first_name': 'Jane', 'age': Decimal('25'), 'username': 'janedoe'}\n"
     ]
    }
   ],
   "source": [
    "#查詢資料\n",
    "response = table.get_item(\n",
    "    Key={\n",
    "        'username': 'janedoe',\n",
    "        'last_name': 'Doe'\n",
    "    }\n",
    ")\n",
    "item = response['Item']\n",
    "print(item)"
   ]
  },
  {
   "cell_type": "code",
   "execution_count": 15,
   "metadata": {},
   "outputs": [
    {
     "data": {
      "text/plain": [
       "{'ResponseMetadata': {'RequestId': '3474f352-67cf-472a-b472-55280fe331ce',\n",
       "  'HTTPStatusCode': 200,\n",
       "  'HTTPHeaders': {'content-type': 'application/x-amz-json-1.0',\n",
       "   'x-amz-crc32': '2745614147',\n",
       "   'x-amzn-requestid': '3474f352-67cf-472a-b472-55280fe331ce',\n",
       "   'content-length': '2',\n",
       "   'server': 'Jetty(8.1.12.v20130726)'},\n",
       "  'RetryAttempts': 0}}"
      ]
     },
     "execution_count": 15,
     "metadata": {},
     "output_type": "execute_result"
    }
   ],
   "source": [
    "#更新物件\n",
    "table.update_item(\n",
    "    Key={\n",
    "        'username': 'janedoe2',\n",
    "        'last_name': 'Doe2'\n",
    "    },\n",
    "    UpdateExpression='SET age = :val1',\n",
    "    ExpressionAttributeValues={\n",
    "        ':val1': 111111111\n",
    "    }\n",
    ")"
   ]
  },
  {
   "cell_type": "code",
   "execution_count": 17,
   "metadata": {},
   "outputs": [
    {
     "data": {
      "text/plain": [
       "{'ResponseMetadata': {'RequestId': '7342595c-569f-42d1-a4b5-d0edf4648692',\n",
       "  'HTTPStatusCode': 200,\n",
       "  'HTTPHeaders': {'content-type': 'application/x-amz-json-1.0',\n",
       "   'x-amz-crc32': '2745614147',\n",
       "   'x-amzn-requestid': '7342595c-569f-42d1-a4b5-d0edf4648692',\n",
       "   'content-length': '2',\n",
       "   'server': 'Jetty(8.1.12.v20130726)'},\n",
       "  'RetryAttempts': 0}}"
      ]
     },
     "execution_count": 17,
     "metadata": {},
     "output_type": "execute_result"
    }
   ],
   "source": [
    "#刪除物件\n",
    "table.delete_item(\n",
    "    Key={\n",
    "        'username': 'janedoe2',\n",
    "        'last_name': 'Doe2'\n",
    "    }\n",
    ")"
   ]
  },
  {
   "cell_type": "code",
   "execution_count": 36,
   "metadata": {},
   "outputs": [
    {
     "name": "stdout",
     "output_type": "stream",
     "text": [
      "[{'last_name': 'Doe', 'account_type': 'standard_user2', 'first_name': 'Jane', 'age': Decimal('2521'), 'username': 'janedoe'}, {'last_name': 'Doe2', 'account_type': 'standard_user2', 'first_name': 'Jane', 'age': Decimal('2521'), 'username': 'janedoe'}]\n"
     ]
    }
   ],
   "source": [
    "#查詢\n",
    "response = table.query(\n",
    "    KeyConditionExpression=Key('username').eq('janedoe')\n",
    ")\n",
    "items = response['Items']\n",
    "print(items)"
   ]
  },
  {
   "cell_type": "code",
   "execution_count": 54,
   "metadata": {},
   "outputs": [
    {
     "name": "stdout",
     "output_type": "stream",
     "text": [
      "[{'last_name': 'Doe', 'account_type': 'standard_user2', 'first_name': 'Jane', 'age': Decimal('2521'), 'username': 'janedoe'}, {'last_name': 'Doe2', 'account_type': 'standard_user2', 'first_name': 'Jane', 'age': Decimal('2521'), 'username': 'janedoe'}]\n"
     ]
    }
   ],
   "source": [
    "#掃描\n",
    "response = table.scan(\n",
    "    FilterExpression=Attr('age').lt(5000)\n",
    ")\n",
    "items = response['Items']\n",
    "print(items)"
   ]
  },
  {
   "cell_type": "code",
   "execution_count": 30,
   "metadata": {},
   "outputs": [
    {
     "data": {
      "text/plain": [
       "{'TableDescription': {'AttributeDefinitions': [{'AttributeName': 'username',\n",
       "    'AttributeType': 'S'},\n",
       "   {'AttributeName': 'last_name', 'AttributeType': 'S'}],\n",
       "  'TableName': 'users',\n",
       "  'KeySchema': [{'AttributeName': 'username', 'KeyType': 'HASH'},\n",
       "   {'AttributeName': 'last_name', 'KeyType': 'RANGE'}],\n",
       "  'TableStatus': 'ACTIVE',\n",
       "  'CreationDateTime': datetime.datetime(2019, 1, 17, 11, 26, 26, 99000, tzinfo=tzlocal()),\n",
       "  'ProvisionedThroughput': {'LastIncreaseDateTime': datetime.datetime(1970, 1, 1, 0, 0, tzinfo=tzlocal()),\n",
       "   'LastDecreaseDateTime': datetime.datetime(1970, 1, 1, 0, 0, tzinfo=tzlocal()),\n",
       "   'NumberOfDecreasesToday': 0,\n",
       "   'ReadCapacityUnits': 5,\n",
       "   'WriteCapacityUnits': 5},\n",
       "  'TableSizeBytes': 295,\n",
       "  'ItemCount': 4,\n",
       "  'TableArn': 'arn:aws:dynamodb:ddblocal:000000000000:table/users'},\n",
       " 'ResponseMetadata': {'RequestId': 'ca439e0b-0f17-456c-8111-1a3e99a474af',\n",
       "  'HTTPStatusCode': 200,\n",
       "  'HTTPHeaders': {'content-type': 'application/x-amz-json-1.0',\n",
       "   'x-amz-crc32': '3910742546',\n",
       "   'x-amzn-requestid': 'ca439e0b-0f17-456c-8111-1a3e99a474af',\n",
       "   'content-length': '586',\n",
       "   'server': 'Jetty(8.1.12.v20130726)'},\n",
       "  'RetryAttempts': 0}}"
      ]
     },
     "execution_count": 30,
     "metadata": {},
     "output_type": "execute_result"
    }
   ],
   "source": [
    "#刪除table\n",
    "table.delete()"
   ]
  },
  {
   "cell_type": "code",
   "execution_count": null,
   "metadata": {},
   "outputs": [],
   "source": []
  }
 ],
 "metadata": {
  "kernelspec": {
   "display_name": "Python 3",
   "language": "python",
   "name": "python3"
  },
  "language_info": {
   "codemirror_mode": {
    "name": "ipython",
    "version": 3
   },
   "file_extension": ".py",
   "mimetype": "text/x-python",
   "name": "python",
   "nbconvert_exporter": "python",
   "pygments_lexer": "ipython3",
   "version": "3.7.1"
  }
 },
 "nbformat": 4,
 "nbformat_minor": 2
}
