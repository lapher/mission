{
 "cells": [
  {
   "cell_type": "code",
   "execution_count": null,
   "metadata": {},
   "outputs": [],
   "source": [
    "#修改檔案\n",
    "import json\n",
    "\n",
    "#讀取檔案(讀取模式)\n",
    "file=open('./data.text','r')\n",
    "#將資料存入變數(json格式)\n",
    "dfile=json.load(file)\n",
    "file.close()\n",
    "\n",
    "#修改變數資料\n",
    "dfile[\"string\"]=\"asdf\"\n",
    "\n",
    "#打開檔案(寫入模式)\n",
    "file=open('./data.text','w')\n",
    "#複寫資料\n",
    "file.write(json.dumps(dfile))\n",
    "file.close()"
   ]
  }
 ],
 "metadata": {
  "kernelspec": {
   "display_name": "Python 3",
   "language": "python",
   "name": "python3"
  },
  "language_info": {
   "codemirror_mode": {
    "name": "ipython",
    "version": 3
   },
   "file_extension": ".py",
   "mimetype": "text/x-python",
   "name": "python",
   "nbconvert_exporter": "python",
   "pygments_lexer": "ipython3",
   "version": "3.7.1"
  }
 },
 "nbformat": 4,
 "nbformat_minor": 2
}
